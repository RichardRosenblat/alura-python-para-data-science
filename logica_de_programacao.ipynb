{
  "nbformat": 4,
  "nbformat_minor": 0,
  "metadata": {
    "colab": {
      "provenance": [],
      "collapsed_sections": [
        "rL8UOG48vs19",
        "YS08T0ZnzCM9",
        "zXKVzwQT7eVU"
      ],
      "authorship_tag": "ABX9TyPCnzzu/EEfn2+Q/50BnAuQ",
      "include_colab_link": true
    },
    "kernelspec": {
      "name": "python3",
      "display_name": "Python 3"
    },
    "language_info": {
      "name": "python"
    }
  },
  "cells": [
    {
      "cell_type": "markdown",
      "metadata": {
        "id": "view-in-github",
        "colab_type": "text"
      },
      "source": [
        "<a href=\"https://colab.research.google.com/github/RichardRosenblat/alura-python-para-data-science/blob/main/logica_de_programacao.ipynb\" target=\"_parent\"><img src=\"https://colab.research.google.com/assets/colab-badge.svg\" alt=\"Open In Colab\"/></a>"
      ]
    },
    {
      "cell_type": "markdown",
      "source": [
        "# Lógica de programação com python!!!"
      ],
      "metadata": {
        "id": "B_hQE8MYtH7m"
      }
    },
    {
      "cell_type": "code",
      "source": [
        "print('Hello world!')"
      ],
      "metadata": {
        "colab": {
          "base_uri": "https://localhost:8080/"
        },
        "id": "Y3tOmQlKs5FF",
        "outputId": "5e048e3c-32f6-4ad1-b630-bf773e694f95"
      },
      "execution_count": 1,
      "outputs": [
        {
          "output_type": "stream",
          "name": "stdout",
          "text": [
            "Hello world!\n"
          ]
        }
      ]
    },
    {
      "cell_type": "code",
      "source": [
        "name = 'Richard'"
      ],
      "metadata": {
        "id": "BREAxIFTubvk"
      },
      "execution_count": 2,
      "outputs": []
    },
    {
      "cell_type": "code",
      "source": [
        "print(f'Name is {name}')"
      ],
      "metadata": {
        "colab": {
          "base_uri": "https://localhost:8080/"
        },
        "id": "D7GIuiT4u5lt",
        "outputId": "5832654f-6815-4c7a-e971-2587310b50f3"
      },
      "execution_count": 3,
      "outputs": [
        {
          "output_type": "stream",
          "name": "stdout",
          "text": [
            "Name is Richard\n"
          ]
        }
      ]
    },
    {
      "cell_type": "markdown",
      "source": [
        "## Criando primeira função"
      ],
      "metadata": {
        "id": "rL8UOG48vs19"
      }
    },
    {
      "cell_type": "code",
      "source": [
        "def say_hello():\n",
        "  name = input('What is your name?: ')\n",
        "  print(f'Your name is {name}')"
      ],
      "metadata": {
        "id": "vRnbVy4qv0pz"
      },
      "execution_count": 4,
      "outputs": []
    },
    {
      "cell_type": "code",
      "source": [
        "say_hello()"
      ],
      "metadata": {
        "colab": {
          "base_uri": "https://localhost:8080/"
        },
        "id": "-5MwLGapyvjk",
        "outputId": "40e52956-2765-4c9f-93e1-52fa91efe519"
      },
      "execution_count": 5,
      "outputs": [
        {
          "output_type": "stream",
          "name": "stdout",
          "text": [
            "What is your name?: Richard\n",
            "Your name is Richard\n"
          ]
        }
      ]
    },
    {
      "cell_type": "markdown",
      "source": [
        "## Parâmetros"
      ],
      "metadata": {
        "id": "YS08T0ZnzCM9"
      }
    },
    {
      "cell_type": "code",
      "source": [
        "def say_hello_with_parameters(name):\n",
        "  print(f'Hello {name}')"
      ],
      "metadata": {
        "id": "2Tb5_JW-yhlt"
      },
      "execution_count": 6,
      "outputs": []
    },
    {
      "cell_type": "code",
      "source": [
        "say_hello_with_parameters('Pedro')"
      ],
      "metadata": {
        "id": "Md7MIrB8y12k",
        "colab": {
          "base_uri": "https://localhost:8080/"
        },
        "outputId": "7e906937-7f93-47a9-f757-d24d46a1670f"
      },
      "execution_count": 7,
      "outputs": [
        {
          "output_type": "stream",
          "name": "stdout",
          "text": [
            "Hello Pedro\n"
          ]
        }
      ]
    },
    {
      "cell_type": "markdown",
      "source": [
        "## Condicional"
      ],
      "metadata": {
        "id": "mwUsWRzdzUgr"
      }
    },
    {
      "cell_type": "code",
      "source": [
        "def check_if_allowed_to_drive(age:int):\n",
        "  if age > 18:\n",
        "    print(f'Age {age}: You can drive :D')\n",
        "  elif age == 18:\n",
        "    print(f'Age {age}: You are still learning, but can drive! :o')\n",
        "  else:\n",
        "    print(f'Age {age}: You cannot drive!!! >:|')"
      ],
      "metadata": {
        "id": "c8bkOtxtzhZU"
      },
      "execution_count": 8,
      "outputs": []
    },
    {
      "cell_type": "code",
      "source": [
        "check_if_allowed_to_drive(20)\n",
        "check_if_allowed_to_drive(18)\n",
        "check_if_allowed_to_drive(10)"
      ],
      "metadata": {
        "id": "4Ikmq4RX1ByJ",
        "colab": {
          "base_uri": "https://localhost:8080/"
        },
        "outputId": "5ecb56c3-7bd6-40f3-d911-8ba941e3860d"
      },
      "execution_count": 9,
      "outputs": [
        {
          "output_type": "stream",
          "name": "stdout",
          "text": [
            "Age 20: You can drive :D\n",
            "Age 18: You are still learning, but can drive! :o\n",
            "Age 10: You cannot drive!!! >:|\n"
          ]
        }
      ]
    },
    {
      "cell_type": "markdown",
      "source": [
        "## Convertendo valores"
      ],
      "metadata": {
        "id": "zXKVzwQT7eVU"
      }
    },
    {
      "cell_type": "code",
      "source": [
        "def check_if_allowed_to_drive_without_params():\n",
        "  age = int(input('How old are you?: '))\n",
        "  check_if_allowed_to_drive(age)"
      ],
      "metadata": {
        "id": "PnGCpFaK4ack"
      },
      "execution_count": 10,
      "outputs": []
    },
    {
      "cell_type": "code",
      "source": [
        "check_if_allowed_to_drive_without_params()"
      ],
      "metadata": {
        "colab": {
          "base_uri": "https://localhost:8080/"
        },
        "outputId": "239c0b8c-6764-4b99-be0d-403e4f677647",
        "id": "d57CHLE16MAT"
      },
      "execution_count": 11,
      "outputs": [
        {
          "output_type": "stream",
          "name": "stdout",
          "text": [
            "How old are you?: 20\n",
            "Age 20: You can drive :D\n"
          ]
        }
      ]
    },
    {
      "cell_type": "markdown",
      "source": [
        "## Lista"
      ],
      "metadata": {
        "id": "BexYkJOsu2sM"
      }
    },
    {
      "cell_type": "code",
      "source": [
        "ages = [0, 1, 2, 3, 4, 5, 6, 7, 8, 9]"
      ],
      "metadata": {
        "id": "mYwKw56qu1yN"
      },
      "execution_count": 12,
      "outputs": []
    },
    {
      "cell_type": "code",
      "source": [
        "print(ages)\n",
        "print(ages[0])\n",
        "print(ages[3])\n",
        "print(ages[0:3])\n",
        "print(ages[-1])"
      ],
      "metadata": {
        "colab": {
          "base_uri": "https://localhost:8080/"
        },
        "id": "Tai14HGzwMa3",
        "outputId": "0f8f7291-b8bf-4429-9311-e883790e61ae"
      },
      "execution_count": 13,
      "outputs": [
        {
          "output_type": "stream",
          "name": "stdout",
          "text": [
            "[0, 1, 2, 3, 4, 5, 6, 7, 8, 9]\n",
            "0\n",
            "3\n",
            "[0, 1, 2]\n",
            "9\n"
          ]
        }
      ]
    },
    {
      "cell_type": "code",
      "source": [
        "ages = [18, 22, 15, 50]"
      ],
      "metadata": {
        "id": "Z8oWIbEHzY9O"
      },
      "execution_count": 14,
      "outputs": []
    },
    {
      "cell_type": "code",
      "source": [
        "for age in ages:\n",
        "  check_if_allowed_to_drive(age)"
      ],
      "metadata": {
        "colab": {
          "base_uri": "https://localhost:8080/"
        },
        "id": "t-N2W52_yfKd",
        "outputId": "a32effff-2d2f-4e43-cb17-3380d0dcdab6"
      },
      "execution_count": 15,
      "outputs": [
        {
          "output_type": "stream",
          "name": "stdout",
          "text": [
            "Age 18: You are still learning, but can drive! :o\n",
            "Age 22: You can drive :D\n",
            "Age 15: You cannot drive!!! >:|\n",
            "Age 50: You can drive :D\n"
          ]
        }
      ]
    },
    {
      "cell_type": "code",
      "source": [
        "def check_if_allowed_to_drive_list(ages:list):\n",
        "  for age in ages:\n",
        "    check_if_allowed_to_drive(age)"
      ],
      "metadata": {
        "id": "DvQO22otzyx2"
      },
      "execution_count": 16,
      "outputs": []
    },
    {
      "cell_type": "code",
      "source": [
        "check_if_allowed_to_drive_list(ages)"
      ],
      "metadata": {
        "colab": {
          "base_uri": "https://localhost:8080/"
        },
        "id": "C6IBO1nB0KRO",
        "outputId": "a464460a-42b3-4bf8-c849-3b20aa46de30"
      },
      "execution_count": 17,
      "outputs": [
        {
          "output_type": "stream",
          "name": "stdout",
          "text": [
            "Age 18: You are still learning, but can drive! :o\n",
            "Age 22: You can drive :D\n",
            "Age 15: You cannot drive!!! >:|\n",
            "Age 50: You can drive :D\n"
          ]
        }
      ]
    },
    {
      "cell_type": "markdown",
      "source": [
        "## Boleano"
      ],
      "metadata": {
        "id": "wBlX65tG1AGe"
      }
    },
    {
      "cell_type": "code",
      "source": [
        "def check_if_allowed_to_drive_memoized(ages,permissions):\n",
        "  for age in ages:\n",
        "    if age >= 18:\n",
        "      permissions.append(True)\n",
        "    else:\n",
        "      permissions.append(False)\n"
      ],
      "metadata": {
        "id": "EbolD3nL1CH2"
      },
      "execution_count": 18,
      "outputs": []
    },
    {
      "cell_type": "code",
      "source": [
        "permissions = []\n",
        "\n",
        "check_if_allowed_to_drive_memoized(ages,permissions)\n",
        "\n",
        "print(permissions)"
      ],
      "metadata": {
        "colab": {
          "base_uri": "https://localhost:8080/"
        },
        "id": "wAdMdDe81Wie",
        "outputId": "829db248-2016-4dc4-b4a5-063c8f0598b3"
      },
      "execution_count": 19,
      "outputs": [
        {
          "output_type": "stream",
          "name": "stdout",
          "text": [
            "[True, True, False, True]\n"
          ]
        }
      ]
    },
    {
      "cell_type": "code",
      "source": [
        "for permission in permissions:\n",
        "  if permission:\n",
        "    print(\"Can drive!\")\n",
        "  else:\n",
        "    print(\"Cannot drive\")"
      ],
      "metadata": {
        "colab": {
          "base_uri": "https://localhost:8080/"
        },
        "id": "KWQEJtyMfUZc",
        "outputId": "fd0caf57-8a94-4937-fad8-1a5917d123fe"
      },
      "execution_count": 20,
      "outputs": [
        {
          "output_type": "stream",
          "name": "stdout",
          "text": [
            "Can drive!\n",
            "Can drive!\n",
            "Cannot drive\n",
            "Can drive!\n"
          ]
        }
      ]
    }
  ]
}