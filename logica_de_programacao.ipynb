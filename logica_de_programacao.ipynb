{
  "nbformat": 4,
  "nbformat_minor": 0,
  "metadata": {
    "colab": {
      "provenance": [],
      "collapsed_sections": [
        "8Cuhs1M6lSIj"
      ],
      "authorship_tag": "ABX9TyOvYtIgONqU8SM8J7+6/Weg",
      "include_colab_link": true
    },
    "kernelspec": {
      "name": "python3",
      "display_name": "Python 3"
    },
    "language_info": {
      "name": "python"
    }
  },
  "cells": [
    {
      "cell_type": "markdown",
      "metadata": {
        "id": "view-in-github",
        "colab_type": "text"
      },
      "source": [
        "<a href=\"https://colab.research.google.com/github/RichardRosenblat/alura-python-para-data-science/blob/main/logica_de_programacao.ipynb\" target=\"_parent\"><img src=\"https://colab.research.google.com/assets/colab-badge.svg\" alt=\"Open In Colab\"/></a>"
      ]
    },
    {
      "cell_type": "markdown",
      "source": [
        "# Lógica de programação com python!!!"
      ],
      "metadata": {
        "id": "B_hQE8MYtH7m"
      }
    },
    {
      "cell_type": "code",
      "source": [
        "print('Hello world!')"
      ],
      "metadata": {
        "id": "Y3tOmQlKs5FF",
        "colab": {
          "base_uri": "https://localhost:8080/"
        },
        "outputId": "581f5136-5fea-48d7-cc65-d7aca30dcc5d"
      },
      "execution_count": 1,
      "outputs": [
        {
          "output_type": "stream",
          "name": "stdout",
          "text": [
            "Hello world!\n"
          ]
        }
      ]
    },
    {
      "cell_type": "code",
      "source": [
        "name = 'Richard'"
      ],
      "metadata": {
        "id": "BREAxIFTubvk"
      },
      "execution_count": 2,
      "outputs": []
    },
    {
      "cell_type": "code",
      "source": [
        "print(f'Name is {name}')"
      ],
      "metadata": {
        "id": "D7GIuiT4u5lt",
        "colab": {
          "base_uri": "https://localhost:8080/"
        },
        "outputId": "b7eafec8-b236-4b0d-b2fd-fd57915838b2"
      },
      "execution_count": 3,
      "outputs": [
        {
          "output_type": "stream",
          "name": "stdout",
          "text": [
            "Name is Richard\n"
          ]
        }
      ]
    },
    {
      "cell_type": "markdown",
      "source": [
        "## Criando primeira função"
      ],
      "metadata": {
        "id": "rL8UOG48vs19"
      }
    },
    {
      "cell_type": "code",
      "source": [
        "def say_hello():\n",
        "  name = input('What is your name?: ')\n",
        "  print(f'Your name is {name}')"
      ],
      "metadata": {
        "id": "vRnbVy4qv0pz"
      },
      "execution_count": 4,
      "outputs": []
    },
    {
      "cell_type": "code",
      "source": [
        "say_hello()"
      ],
      "metadata": {
        "id": "-5MwLGapyvjk",
        "colab": {
          "base_uri": "https://localhost:8080/"
        },
        "outputId": "85556294-a2b2-4741-da97-610590f0d2fe"
      },
      "execution_count": 5,
      "outputs": [
        {
          "output_type": "stream",
          "name": "stdout",
          "text": [
            "What is your name?: Richard\n",
            "Your name is Richard\n"
          ]
        }
      ]
    },
    {
      "cell_type": "markdown",
      "source": [
        "## Parâmetros"
      ],
      "metadata": {
        "id": "YS08T0ZnzCM9"
      }
    },
    {
      "cell_type": "code",
      "source": [
        "def say_hello_with_parameters(name):\n",
        "  print(f'Hello {name}')"
      ],
      "metadata": {
        "id": "2Tb5_JW-yhlt"
      },
      "execution_count": 6,
      "outputs": []
    },
    {
      "cell_type": "code",
      "source": [
        "say_hello_with_parameters('Pedro')"
      ],
      "metadata": {
        "id": "Md7MIrB8y12k",
        "colab": {
          "base_uri": "https://localhost:8080/"
        },
        "outputId": "c2b38df2-985c-4b1e-b72e-28cc1c05e08c"
      },
      "execution_count": 7,
      "outputs": [
        {
          "output_type": "stream",
          "name": "stdout",
          "text": [
            "Hello Pedro\n"
          ]
        }
      ]
    },
    {
      "cell_type": "markdown",
      "source": [
        "## Condicional"
      ],
      "metadata": {
        "id": "mwUsWRzdzUgr"
      }
    },
    {
      "cell_type": "code",
      "source": [
        "def check_if_allowed_to_drive(age:int):\n",
        "  if age > 18:\n",
        "    print(f'Age {age}: You can drive :D')\n",
        "  elif age == 18:\n",
        "    print(f'Age {age}: You are still learning, but can drive! :o')\n",
        "  else:\n",
        "    print(f'Age {age}: You cannot drive!!! >:|')"
      ],
      "metadata": {
        "id": "c8bkOtxtzhZU"
      },
      "execution_count": 8,
      "outputs": []
    },
    {
      "cell_type": "code",
      "source": [
        "check_if_allowed_to_drive(20)\n",
        "check_if_allowed_to_drive(18)\n",
        "check_if_allowed_to_drive(10)"
      ],
      "metadata": {
        "id": "4Ikmq4RX1ByJ",
        "colab": {
          "base_uri": "https://localhost:8080/"
        },
        "outputId": "0ea8d5dc-1970-4a6d-9ab5-98eebafe40de"
      },
      "execution_count": 9,
      "outputs": [
        {
          "output_type": "stream",
          "name": "stdout",
          "text": [
            "Age 20: You can drive :D\n",
            "Age 18: You are still learning, but can drive! :o\n",
            "Age 10: You cannot drive!!! >:|\n"
          ]
        }
      ]
    },
    {
      "cell_type": "markdown",
      "source": [
        "## Convertendo valores"
      ],
      "metadata": {
        "id": "zXKVzwQT7eVU"
      }
    },
    {
      "cell_type": "code",
      "source": [
        "def check_if_allowed_to_drive_without_params():\n",
        "  age = int(input('How old are you?: '))\n",
        "  check_if_allowed_to_drive(age)"
      ],
      "metadata": {
        "id": "PnGCpFaK4ack"
      },
      "execution_count": 10,
      "outputs": []
    },
    {
      "cell_type": "code",
      "source": [
        "check_if_allowed_to_drive_without_params()"
      ],
      "metadata": {
        "id": "d57CHLE16MAT",
        "colab": {
          "base_uri": "https://localhost:8080/"
        },
        "outputId": "d12f961a-f3aa-4a1a-d864-cd4df960e38b"
      },
      "execution_count": 11,
      "outputs": [
        {
          "output_type": "stream",
          "name": "stdout",
          "text": [
            "How old are you?: 20\n",
            "Age 20: You can drive :D\n"
          ]
        }
      ]
    },
    {
      "cell_type": "markdown",
      "source": [
        "## Lista"
      ],
      "metadata": {
        "id": "BexYkJOsu2sM"
      }
    },
    {
      "cell_type": "code",
      "source": [
        "ages = [0, 1, 2, 3, 4, 5, 6, 7, 8, 9]"
      ],
      "metadata": {
        "id": "mYwKw56qu1yN"
      },
      "execution_count": 12,
      "outputs": []
    },
    {
      "cell_type": "code",
      "source": [
        "print(ages)\n",
        "print(ages[0])\n",
        "print(ages[3])\n",
        "print(ages[0:3])\n",
        "print(ages[-1])"
      ],
      "metadata": {
        "id": "Tai14HGzwMa3",
        "colab": {
          "base_uri": "https://localhost:8080/"
        },
        "outputId": "860080e3-4377-4f51-f582-3d633353a810"
      },
      "execution_count": 13,
      "outputs": [
        {
          "output_type": "stream",
          "name": "stdout",
          "text": [
            "[0, 1, 2, 3, 4, 5, 6, 7, 8, 9]\n",
            "0\n",
            "3\n",
            "[0, 1, 2]\n",
            "9\n"
          ]
        }
      ]
    },
    {
      "cell_type": "code",
      "source": [
        "ages = [18, 22, 15, 50]"
      ],
      "metadata": {
        "id": "Z8oWIbEHzY9O"
      },
      "execution_count": 14,
      "outputs": []
    },
    {
      "cell_type": "code",
      "source": [
        "for age in ages:\n",
        "  check_if_allowed_to_drive(age)"
      ],
      "metadata": {
        "id": "t-N2W52_yfKd",
        "colab": {
          "base_uri": "https://localhost:8080/"
        },
        "outputId": "dc0dcf6b-f128-4d7f-db39-c2b6954f9c38"
      },
      "execution_count": 15,
      "outputs": [
        {
          "output_type": "stream",
          "name": "stdout",
          "text": [
            "Age 18: You are still learning, but can drive! :o\n",
            "Age 22: You can drive :D\n",
            "Age 15: You cannot drive!!! >:|\n",
            "Age 50: You can drive :D\n"
          ]
        }
      ]
    },
    {
      "cell_type": "code",
      "source": [
        "def check_if_allowed_to_drive_list(ages:list):\n",
        "  for age in ages:\n",
        "    check_if_allowed_to_drive(age)"
      ],
      "metadata": {
        "id": "DvQO22otzyx2"
      },
      "execution_count": 16,
      "outputs": []
    },
    {
      "cell_type": "code",
      "source": [
        "check_if_allowed_to_drive_list(ages)"
      ],
      "metadata": {
        "id": "C6IBO1nB0KRO",
        "colab": {
          "base_uri": "https://localhost:8080/"
        },
        "outputId": "8bf71dff-7bdd-44e8-f75d-ed6b1464f189"
      },
      "execution_count": 17,
      "outputs": [
        {
          "output_type": "stream",
          "name": "stdout",
          "text": [
            "Age 18: You are still learning, but can drive! :o\n",
            "Age 22: You can drive :D\n",
            "Age 15: You cannot drive!!! >:|\n",
            "Age 50: You can drive :D\n"
          ]
        }
      ]
    },
    {
      "cell_type": "markdown",
      "source": [
        "## Boleano"
      ],
      "metadata": {
        "id": "wBlX65tG1AGe"
      }
    },
    {
      "cell_type": "code",
      "source": [
        "def check_if_allowed_to_drive_memoized(ages,permissions):\n",
        "  for age in ages:\n",
        "    if age >= 18:\n",
        "      permissions.append(True)\n",
        "    else:\n",
        "      permissions.append(False)\n"
      ],
      "metadata": {
        "id": "EbolD3nL1CH2"
      },
      "execution_count": 18,
      "outputs": []
    },
    {
      "cell_type": "code",
      "source": [
        "permissions = []\n",
        "\n",
        "check_if_allowed_to_drive_memoized(ages,permissions)\n",
        "\n",
        "print(permissions)"
      ],
      "metadata": {
        "id": "wAdMdDe81Wie",
        "colab": {
          "base_uri": "https://localhost:8080/"
        },
        "outputId": "8f03d846-5221-44d7-ec11-3df32b68c84f"
      },
      "execution_count": 19,
      "outputs": [
        {
          "output_type": "stream",
          "name": "stdout",
          "text": [
            "[True, True, False, True]\n"
          ]
        }
      ]
    },
    {
      "cell_type": "code",
      "source": [
        "for permission in permissions:\n",
        "  if permission:\n",
        "    print(\"Can drive!\")\n",
        "  else:\n",
        "    print(\"Cannot drive\")"
      ],
      "metadata": {
        "id": "KWQEJtyMfUZc",
        "colab": {
          "base_uri": "https://localhost:8080/"
        },
        "outputId": "6de6ffe4-d041-4f11-8134-3541795b9108"
      },
      "execution_count": 20,
      "outputs": [
        {
          "output_type": "stream",
          "name": "stdout",
          "text": [
            "Can drive!\n",
            "Can drive!\n",
            "Cannot drive\n",
            "Can drive!\n"
          ]
        }
      ]
    },
    {
      "cell_type": "markdown",
      "source": [
        "## Tipos em uma lista"
      ],
      "metadata": {
        "id": "gp9VPLW5ZsLy"
      }
    },
    {
      "cell_type": "code",
      "source": [
        "manyTypesList = ['Richard',28,True,'wawa']\n",
        "for i in manyTypesList:\n",
        "  print(f'item {i} is of type', type(i))"
      ],
      "metadata": {
        "id": "3I1j_G8EZfS6",
        "colab": {
          "base_uri": "https://localhost:8080/"
        },
        "outputId": "cb8185a9-1849-43dd-86bf-050082f55efc"
      },
      "execution_count": 21,
      "outputs": [
        {
          "output_type": "stream",
          "name": "stdout",
          "text": [
            "item Richard is of type <class 'str'>\n",
            "item 28 is of type <class 'int'>\n",
            "item True is of type <class 'bool'>\n",
            "item wawa is of type <class 'str'>\n"
          ]
        }
      ]
    },
    {
      "cell_type": "markdown",
      "source": [
        "## Imports"
      ],
      "metadata": {
        "id": "MxELLXUHbUKk"
      }
    },
    {
      "cell_type": "code",
      "source": [
        "from random import randrange, randrange, seed"
      ],
      "metadata": {
        "id": "pBlKnnhPbWbw"
      },
      "execution_count": 22,
      "outputs": []
    },
    {
      "cell_type": "code",
      "source": [
        "seed(11)"
      ],
      "metadata": {
        "id": "ZddI0vx0g-gq"
      },
      "execution_count": 23,
      "outputs": []
    },
    {
      "cell_type": "code",
      "source": [
        "gradesList = []\n",
        "for i in range(8):\n",
        "  gradesList.append(randrange(0,11))\n",
        "print(gradesList)"
      ],
      "metadata": {
        "colab": {
          "base_uri": "https://localhost:8080/"
        },
        "id": "scfbXZzObuSZ",
        "outputId": "601c54b6-52b5-44c5-a7cb-b4d227ff9a46"
      },
      "execution_count": 24,
      "outputs": [
        {
          "output_type": "stream",
          "name": "stdout",
          "text": [
            "[7, 8, 7, 7, 8, 9, 3, 2]\n"
          ]
        }
      ]
    },
    {
      "cell_type": "code",
      "source": [
        "print(len(gradesList))"
      ],
      "metadata": {
        "id": "mYAaG3feix6S",
        "colab": {
          "base_uri": "https://localhost:8080/"
        },
        "outputId": "cbd6d61a-3a0e-4222-b7a1-bb356b1028ea"
      },
      "execution_count": 25,
      "outputs": [
        {
          "output_type": "stream",
          "name": "stdout",
          "text": [
            "8\n"
          ]
        }
      ]
    },
    {
      "cell_type": "markdown",
      "source": [
        "## Operador Is e =="
      ],
      "metadata": {
        "id": "8Cuhs1M6lSIj"
      }
    },
    {
      "cell_type": "code",
      "source": [
        "x = [0,1,2]\n",
        "y=[0,1,2]\n",
        "print(x == y)\n",
        "print(x is y)\n",
        "x = y \n",
        "print(x is y)"
      ],
      "metadata": {
        "id": "KFED43-qkGE6",
        "colab": {
          "base_uri": "https://localhost:8080/"
        },
        "outputId": "7fc874ae-39eb-4041-8f2a-ed89925c43c8"
      },
      "execution_count": 26,
      "outputs": [
        {
          "output_type": "stream",
          "name": "stdout",
          "text": [
            "True\n",
            "False\n",
            "True\n"
          ]
        }
      ]
    },
    {
      "cell_type": "markdown",
      "source": [
        "## Matplotlib"
      ],
      "metadata": {
        "id": "U6ZJjBmAlW87"
      }
    },
    {
      "cell_type": "code",
      "source": [
        "from random import randrange, randrange, seed\n",
        "from matplotlib import pyplot as plt"
      ],
      "metadata": {
        "id": "L22ngCUwl6yx"
      },
      "execution_count": 27,
      "outputs": []
    },
    {
      "cell_type": "code",
      "source": [
        "x = list(range(1,10))\n",
        "y = []\n",
        "for i in range(9):\n",
        "  y.append(randrange(0,11))\n",
        "plt.plot(x, y,marker='o')\n",
        "plt.title(\"Notas dos alunos\")\n",
        "plt.xlabel(\"Provas\")\n",
        "plt.ylabel(\"Notas\")\n",
        "\n",
        "plt.show()"
      ],
      "metadata": {
        "id": "hvGCUfFxofqq",
        "colab": {
          "base_uri": "https://localhost:8080/",
          "height": 295
        },
        "outputId": "63bbbf08-0e42-4c66-9697-6f9f36456876"
      },
      "execution_count": 28,
      "outputs": [
        {
          "output_type": "display_data",
          "data": {
            "text/plain": [
              "<Figure size 432x288 with 1 Axes>"
            ],
            "image/png": "[encoded data removed]"
          },
          "metadata": {
            "needs_background": "light"
          }
        }
      ]
    }
  ]
}