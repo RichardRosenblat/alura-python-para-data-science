{
  "nbformat": 4,
  "nbformat_minor": 0,
  "metadata": {
    "colab": {
      "provenance": [],
      "authorship_tag": "ABX9TyN7xBq+CI3qHYKveQW2ahQi",
      "include_colab_link": true
    },
    "kernelspec": {
      "name": "python3",
      "display_name": "Python 3"
    },
    "language_info": {
      "name": "python"
    }
  },
  "cells": [
    {
      "cell_type": "markdown",
      "metadata": {
        "id": "view-in-github",
        "colab_type": "text"
      },
      "source": [
        "<a href=\"https://colab.research.google.com/github/RichardRosenblat/alura-python-para-data-science/blob/main/logica_de_programacao.ipynb\" target=\"_parent\"><img src=\"https://colab.research.google.com/assets/colab-badge.svg\" alt=\"Open In Colab\"/></a>"
      ]
    },
    {
      "cell_type": "markdown",
      "source": [
        "# Lógica de programação com python!!!"
      ],
      "metadata": {
        "id": "B_hQE8MYtH7m"
      }
    },
    {
      "cell_type": "code",
      "source": [
        "print('Hello world!')"
      ],
      "metadata": {
        "colab": {
          "base_uri": "https://localhost:8080/"
        },
        "id": "Y3tOmQlKs5FF",
        "outputId": "0de15796-619e-4b22-fa96-b5e469812ca4"
      },
      "execution_count": 1,
      "outputs": [
        {
          "output_type": "stream",
          "name": "stdout",
          "text": [
            "Hello world!\n"
          ]
        }
      ]
    },
    {
      "cell_type": "code",
      "source": [
        "name = 'Richard'"
      ],
      "metadata": {
        "id": "BREAxIFTubvk"
      },
      "execution_count": 2,
      "outputs": []
    },
    {
      "cell_type": "code",
      "source": [
        "print(f'Name is {name}')"
      ],
      "metadata": {
        "colab": {
          "base_uri": "https://localhost:8080/"
        },
        "id": "D7GIuiT4u5lt",
        "outputId": "8a97dff9-7aa3-4437-ea8b-9ad608e183ca"
      },
      "execution_count": 3,
      "outputs": [
        {
          "output_type": "stream",
          "name": "stdout",
          "text": [
            "Name is Richard\n"
          ]
        }
      ]
    },
    {
      "cell_type": "markdown",
      "source": [
        "# Criando primeira função"
      ],
      "metadata": {
        "id": "rL8UOG48vs19"
      }
    },
    {
      "cell_type": "code",
      "source": [
        "def say_hello():\n",
        "  name = input('What is your name?: ')\n",
        "  print(f'Your name is {name}')"
      ],
      "metadata": {
        "id": "vRnbVy4qv0pz"
      },
      "execution_count": 4,
      "outputs": []
    },
    {
      "cell_type": "code",
      "source": [
        "say_hello()"
      ],
      "metadata": {
        "colab": {
          "base_uri": "https://localhost:8080/"
        },
        "id": "-5MwLGapyvjk",
        "outputId": "f9713cd9-6b9b-461c-b243-d5b92228bfd7"
      },
      "execution_count": 5,
      "outputs": [
        {
          "output_type": "stream",
          "name": "stdout",
          "text": [
            "What is your name?: Richard\n",
            "Your name is Richard\n"
          ]
        }
      ]
    },
    {
      "cell_type": "markdown",
      "source": [
        "## Parâmetros"
      ],
      "metadata": {
        "id": "YS08T0ZnzCM9"
      }
    },
    {
      "cell_type": "code",
      "source": [
        "def say_hello_with_parameters(name):\n",
        "  print(f'Hello {name}')"
      ],
      "metadata": {
        "id": "2Tb5_JW-yhlt"
      },
      "execution_count": 6,
      "outputs": []
    },
    {
      "cell_type": "code",
      "source": [
        "say_hello_with_parameters('Pedro')"
      ],
      "metadata": {
        "id": "Md7MIrB8y12k",
        "colab": {
          "base_uri": "https://localhost:8080/"
        },
        "outputId": "76931487-c24f-4277-a005-0b59d3fadb37"
      },
      "execution_count": 7,
      "outputs": [
        {
          "output_type": "stream",
          "name": "stdout",
          "text": [
            "Hello Pedro\n"
          ]
        }
      ]
    },
    {
      "cell_type": "markdown",
      "source": [
        "# Condicional"
      ],
      "metadata": {
        "id": "mwUsWRzdzUgr"
      }
    },
    {
      "cell_type": "code",
      "source": [
        "def check_if_allowed_to_drive(age):\n",
        "  if age > 18:\n",
        "    print('You can drive :D')\n",
        "  elif age == 18:\n",
        "    print('You are still learning, but can drive! :o')\n",
        "  else:\n",
        "    print('You cannot drive!!! >:|')"
      ],
      "metadata": {
        "id": "c8bkOtxtzhZU"
      },
      "execution_count": 8,
      "outputs": []
    },
    {
      "cell_type": "code",
      "source": [
        "check_if_allowed_to_drive(20)\n",
        "check_if_allowed_to_drive(18)\n",
        "check_if_allowed_to_drive(10)"
      ],
      "metadata": {
        "id": "4Ikmq4RX1ByJ",
        "colab": {
          "base_uri": "https://localhost:8080/"
        },
        "outputId": "2686daa2-9870-4204-b8fb-7ad400eab806"
      },
      "execution_count": 9,
      "outputs": [
        {
          "output_type": "stream",
          "name": "stdout",
          "text": [
            "You can drive :D\n",
            "You are still learning, but can drive! :o\n",
            "You cannot drive!!! >:|\n"
          ]
        }
      ]
    },
    {
      "cell_type": "markdown",
      "source": [
        "# Convertendo valores"
      ],
      "metadata": {
        "id": "zXKVzwQT7eVU"
      }
    },
    {
      "cell_type": "code",
      "source": [
        "def check_if_allowed_to_drive_without_params():\n",
        "  age = int(input('How old are you?: '))\n",
        "  check_if_allowed_to_drive(age)"
      ],
      "metadata": {
        "id": "PnGCpFaK4ack"
      },
      "execution_count": 10,
      "outputs": []
    },
    {
      "cell_type": "code",
      "source": [
        "check_if_allowed_to_drive_without_params()"
      ],
      "metadata": {
        "colab": {
          "base_uri": "https://localhost:8080/"
        },
        "outputId": "f379cd83-49c9-4f26-e269-21dfd318a66a",
        "id": "d57CHLE16MAT"
      },
      "execution_count": 11,
      "outputs": [
        {
          "output_type": "stream",
          "name": "stdout",
          "text": [
            "How old are you?: 10\n",
            "You cannot drive!!! >:|\n"
          ]
        }
      ]
    }
  ]
}