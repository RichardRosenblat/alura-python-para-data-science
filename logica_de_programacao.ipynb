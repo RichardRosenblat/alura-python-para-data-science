{
  "nbformat": 4,
  "nbformat_minor": 0,
  "metadata": {
    "colab": {
      "provenance": [],
      "collapsed_sections": [
        "B_hQE8MYtH7m"
      ],
      "authorship_tag": "ABX9TyNi8KLPhIWcAYQ4BhdAdVVy",
      "include_colab_link": true
    },
    "kernelspec": {
      "name": "python3",
      "display_name": "Python 3"
    },
    "language_info": {
      "name": "python"
    }
  },
  "cells": [
    {
      "cell_type": "markdown",
      "metadata": {
        "id": "view-in-github",
        "colab_type": "text"
      },
      "source": [
        "<a href=\"https://colab.research.google.com/github/RichardRosenblat/alura-python-para-data-science/blob/main/logica_de_programacao.ipynb\" target=\"_parent\"><img src=\"https://colab.research.google.com/assets/colab-badge.svg\" alt=\"Open In Colab\"/></a>"
      ]
    },
    {
      "cell_type": "markdown",
      "source": [
        "# Aula 1 - Função e linguagem de alto nível"
      ],
      "metadata": {
        "id": "b9DG8hvsv8C9"
      }
    },
    {
      "cell_type": "markdown",
      "source": [
        "## Lógica de programação com python!!!\n"
      ],
      "metadata": {
        "id": "B_hQE8MYtH7m"
      }
    },
    {
      "cell_type": "code",
      "source": [
        "print('Hello world!')"
      ],
      "metadata": {
        "colab": {
          "base_uri": "https://localhost:8080/"
        },
        "id": "Y3tOmQlKs5FF",
        "outputId": "acea5577-06c8-4aa5-f0e3-b5830e027896"
      },
      "execution_count": 11,
      "outputs": [
        {
          "output_type": "stream",
          "name": "stdout",
          "text": [
            "Hello world!\n"
          ]
        }
      ]
    },
    {
      "cell_type": "code",
      "source": [
        "name = 'Richard'"
      ],
      "metadata": {
        "id": "BREAxIFTubvk"
      },
      "execution_count": 13,
      "outputs": []
    },
    {
      "cell_type": "code",
      "source": [
        "print(f\"Name is {name}\")"
      ],
      "metadata": {
        "colab": {
          "base_uri": "https://localhost:8080/"
        },
        "id": "D7GIuiT4u5lt",
        "outputId": "4b830176-6eb2-421c-f3f1-55c8f5d0f258"
      },
      "execution_count": 15,
      "outputs": [
        {
          "output_type": "stream",
          "name": "stdout",
          "text": [
            "Name is Richard\n"
          ]
        }
      ]
    },
    {
      "cell_type": "markdown",
      "source": [
        "## Criando primeira função"
      ],
      "metadata": {
        "id": "rL8UOG48vs19"
      }
    },
    {
      "cell_type": "code",
      "source": [
        "def sayHello():\n",
        "  name = input(\"Qual o seu nome?: \")\n",
        "  print(f\"Seu nome é {name}\")\n",
        "sayHello()"
      ],
      "metadata": {
        "colab": {
          "base_uri": "https://localhost:8080/"
        },
        "id": "vRnbVy4qv0pz",
        "outputId": "1e3eb5f2-3aec-4a1a-9fa5-e9d32499a184"
      },
      "execution_count": 17,
      "outputs": [
        {
          "output_type": "stream",
          "name": "stdout",
          "text": [
            "Qual o seu nomeRichard\n",
            "Richard\n"
          ]
        }
      ]
    }
  ]
}