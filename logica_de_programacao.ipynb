{
  "nbformat": 4,
  "nbformat_minor": 0,
  "metadata": {
    "colab": {
      "provenance": [],
      "collapsed_sections": [
        "8Cuhs1M6lSIj"
      ],
      "authorship_tag": "ABX9TyOdQtXY/gX0P4qnFEy2Y3S8",
      "include_colab_link": true
    },
    "kernelspec": {
      "name": "python3",
      "display_name": "Python 3"
    },
    "language_info": {
      "name": "python"
    }
  },
  "cells": [
    {
      "cell_type": "markdown",
      "metadata": {
        "id": "view-in-github",
        "colab_type": "text"
      },
      "source": [
        "<a href=\"https://colab.research.google.com/github/RichardRosenblat/alura-python-para-data-science/blob/main/logica_de_programacao.ipynb\" target=\"_parent\"><img src=\"https://colab.research.google.com/assets/colab-badge.svg\" alt=\"Open In Colab\"/></a>"
      ]
    },
    {
      "cell_type": "markdown",
      "source": [
        "# Lógica de programação com python!!!"
      ],
      "metadata": {
        "id": "B_hQE8MYtH7m"
      }
    },
    {
      "cell_type": "code",
      "source": [
        "print('Hello world!')"
      ],
      "metadata": {
        "id": "Y3tOmQlKs5FF"
      },
      "execution_count": null,
      "outputs": []
    },
    {
      "cell_type": "code",
      "source": [
        "name = 'Richard'"
      ],
      "metadata": {
        "id": "BREAxIFTubvk"
      },
      "execution_count": null,
      "outputs": []
    },
    {
      "cell_type": "code",
      "source": [
        "print(f'Name is {name}')"
      ],
      "metadata": {
        "id": "D7GIuiT4u5lt"
      },
      "execution_count": null,
      "outputs": []
    },
    {
      "cell_type": "markdown",
      "source": [
        "## Criando primeira função"
      ],
      "metadata": {
        "id": "rL8UOG48vs19"
      }
    },
    {
      "cell_type": "code",
      "source": [
        "def say_hello():\n",
        "  name = input('What is your name?: ')\n",
        "  print(f'Your name is {name}')"
      ],
      "metadata": {
        "id": "vRnbVy4qv0pz"
      },
      "execution_count": null,
      "outputs": []
    },
    {
      "cell_type": "code",
      "source": [
        "say_hello()"
      ],
      "metadata": {
        "id": "-5MwLGapyvjk"
      },
      "execution_count": null,
      "outputs": []
    },
    {
      "cell_type": "markdown",
      "source": [
        "## Parâmetros"
      ],
      "metadata": {
        "id": "YS08T0ZnzCM9"
      }
    },
    {
      "cell_type": "code",
      "source": [
        "def say_hello_with_parameters(name):\n",
        "  print(f'Hello {name}')"
      ],
      "metadata": {
        "id": "2Tb5_JW-yhlt"
      },
      "execution_count": null,
      "outputs": []
    },
    {
      "cell_type": "code",
      "source": [
        "say_hello_with_parameters('Pedro')"
      ],
      "metadata": {
        "id": "Md7MIrB8y12k"
      },
      "execution_count": null,
      "outputs": []
    },
    {
      "cell_type": "markdown",
      "source": [
        "## Condicional"
      ],
      "metadata": {
        "id": "mwUsWRzdzUgr"
      }
    },
    {
      "cell_type": "code",
      "source": [
        "def check_if_allowed_to_drive(age:int):\n",
        "  if age > 18:\n",
        "    print(f'Age {age}: You can drive :D')\n",
        "  elif age == 18:\n",
        "    print(f'Age {age}: You are still learning, but can drive! :o')\n",
        "  else:\n",
        "    print(f'Age {age}: You cannot drive!!! >:|')"
      ],
      "metadata": {
        "id": "c8bkOtxtzhZU"
      },
      "execution_count": null,
      "outputs": []
    },
    {
      "cell_type": "code",
      "source": [
        "check_if_allowed_to_drive(20)\n",
        "check_if_allowed_to_drive(18)\n",
        "check_if_allowed_to_drive(10)"
      ],
      "metadata": {
        "id": "4Ikmq4RX1ByJ"
      },
      "execution_count": null,
      "outputs": []
    },
    {
      "cell_type": "markdown",
      "source": [
        "## Convertendo valores"
      ],
      "metadata": {
        "id": "zXKVzwQT7eVU"
      }
    },
    {
      "cell_type": "code",
      "source": [
        "def check_if_allowed_to_drive_without_params():\n",
        "  age = int(input('How old are you?: '))\n",
        "  check_if_allowed_to_drive(age)"
      ],
      "metadata": {
        "id": "PnGCpFaK4ack"
      },
      "execution_count": null,
      "outputs": []
    },
    {
      "cell_type": "code",
      "source": [
        "check_if_allowed_to_drive_without_params()"
      ],
      "metadata": {
        "id": "d57CHLE16MAT"
      },
      "execution_count": null,
      "outputs": []
    },
    {
      "cell_type": "markdown",
      "source": [
        "## Lista"
      ],
      "metadata": {
        "id": "BexYkJOsu2sM"
      }
    },
    {
      "cell_type": "code",
      "source": [
        "ages = [0, 1, 2, 3, 4, 5, 6, 7, 8, 9]"
      ],
      "metadata": {
        "id": "mYwKw56qu1yN"
      },
      "execution_count": null,
      "outputs": []
    },
    {
      "cell_type": "code",
      "source": [
        "print(ages)\n",
        "print(ages[0])\n",
        "print(ages[3])\n",
        "print(ages[0:3])\n",
        "print(ages[-1])"
      ],
      "metadata": {
        "id": "Tai14HGzwMa3"
      },
      "execution_count": null,
      "outputs": []
    },
    {
      "cell_type": "code",
      "source": [
        "ages = [18, 22, 15, 50]"
      ],
      "metadata": {
        "id": "Z8oWIbEHzY9O"
      },
      "execution_count": null,
      "outputs": []
    },
    {
      "cell_type": "code",
      "source": [
        "for age in ages:\n",
        "  check_if_allowed_to_drive(age)"
      ],
      "metadata": {
        "id": "t-N2W52_yfKd"
      },
      "execution_count": null,
      "outputs": []
    },
    {
      "cell_type": "code",
      "source": [
        "def check_if_allowed_to_drive_list(ages:list):\n",
        "  for age in ages:\n",
        "    check_if_allowed_to_drive(age)"
      ],
      "metadata": {
        "id": "DvQO22otzyx2"
      },
      "execution_count": null,
      "outputs": []
    },
    {
      "cell_type": "code",
      "source": [
        "check_if_allowed_to_drive_list(ages)"
      ],
      "metadata": {
        "id": "C6IBO1nB0KRO"
      },
      "execution_count": null,
      "outputs": []
    },
    {
      "cell_type": "markdown",
      "source": [
        "## Boleano"
      ],
      "metadata": {
        "id": "wBlX65tG1AGe"
      }
    },
    {
      "cell_type": "code",
      "source": [
        "def check_if_allowed_to_drive_memoized(ages,permissions):\n",
        "  for age in ages:\n",
        "    if age >= 18:\n",
        "      permissions.append(True)\n",
        "    else:\n",
        "      permissions.append(False)\n"
      ],
      "metadata": {
        "id": "EbolD3nL1CH2"
      },
      "execution_count": null,
      "outputs": []
    },
    {
      "cell_type": "code",
      "source": [
        "permissions = []\n",
        "\n",
        "check_if_allowed_to_drive_memoized(ages,permissions)\n",
        "\n",
        "print(permissions)"
      ],
      "metadata": {
        "id": "wAdMdDe81Wie"
      },
      "execution_count": null,
      "outputs": []
    },
    {
      "cell_type": "code",
      "source": [
        "for permission in permissions:\n",
        "  if permission:\n",
        "    print(\"Can drive!\")\n",
        "  else:\n",
        "    print(\"Cannot drive\")"
      ],
      "metadata": {
        "id": "KWQEJtyMfUZc"
      },
      "execution_count": null,
      "outputs": []
    },
    {
      "cell_type": "markdown",
      "source": [
        "## Tipos em uma lista"
      ],
      "metadata": {
        "id": "gp9VPLW5ZsLy"
      }
    },
    {
      "cell_type": "code",
      "source": [
        "manyTypesList = ['Richard',28,True,'wawa']\n",
        "for i in manyTypesList:\n",
        "  print(f'item {i} is of type', type(i))"
      ],
      "metadata": {
        "id": "3I1j_G8EZfS6"
      },
      "execution_count": null,
      "outputs": []
    },
    {
      "cell_type": "markdown",
      "source": [
        "## Imports"
      ],
      "metadata": {
        "id": "MxELLXUHbUKk"
      }
    },
    {
      "cell_type": "code",
      "source": [
        "from random import randrange, randrange, seed"
      ],
      "metadata": {
        "id": "pBlKnnhPbWbw"
      },
      "execution_count": null,
      "outputs": []
    },
    {
      "cell_type": "code",
      "source": [
        "seed(11)"
      ],
      "metadata": {
        "id": "ZddI0vx0g-gq"
      },
      "execution_count": null,
      "outputs": []
    },
    {
      "cell_type": "code",
      "source": [
        "gradesList = []\n",
        "for i in range(8):\n",
        "  gradesList.append(randrange(0,11))\n",
        "print(gradesList)"
      ],
      "metadata": {
        "colab": {
          "base_uri": "https://localhost:8080/"
        },
        "id": "scfbXZzObuSZ",
        "outputId": "df6ea59a-02b6-483f-c597-3054930f297c"
      },
      "execution_count": null,
      "outputs": [
        {
          "output_type": "stream",
          "name": "stdout",
          "text": [
            "[9, 0, 7, 5, 7, 9, 3, 8]\n"
          ]
        }
      ]
    },
    {
      "cell_type": "code",
      "source": [
        "print(len(gradesList))"
      ],
      "metadata": {
        "id": "mYAaG3feix6S"
      },
      "execution_count": null,
      "outputs": []
    }
  ]
}